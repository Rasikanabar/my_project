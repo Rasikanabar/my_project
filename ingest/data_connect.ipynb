{
 "cells": [
  {
   "cell_type": "code",
   "execution_count": 64,
   "id": "5e972d93-a1b2-43b5-af17-7e406c711c51",
   "metadata": {},
   "outputs": [],
   "source": [
    "import gspread\n",
    "from oauth2client.service_account import ServiceAccountCredentials\n",
    "import pandas as pd\n",
    "import mysql.connector\n",
    "from dotenv import load_dotenv\n",
    "import os\n",
    "from sqlalchemy import create_engine\n",
    "from urllib.parse import quote_plus"
   ]
  },
  {
   "cell_type": "code",
   "execution_count": 52,
   "id": "8d48a402-9268-470f-a64a-bf81b455ad3d",
   "metadata": {},
   "outputs": [],
   "source": [
    "scope = [\n",
    "    'https://spreadsheets.google.com/feeds',\n",
    "    'https://www.googleapis.com/auth/drive'\n",
    "]\n",
    "creds = ServiceAccountCredentials.from_json_keyfile_name('data-ingestion-464816-ae573e49660d.json', scope)"
   ]
  },
  {
   "cell_type": "code",
   "execution_count": 53,
   "id": "af13464c-166c-43c3-9e6e-cdd9d77f82f2",
   "metadata": {},
   "outputs": [],
   "source": [
    "client = gspread.authorize(creds)\n",
    "sheet = client.open(\"rental_car_issues\").sheet1  # or use .open_by_url()\n",
    "data = sheet.get_all_records()"
   ]
  },
  {
   "cell_type": "code",
   "execution_count": 54,
   "id": "a969f164-051b-4d98-a24f-386ebd16ef0f",
   "metadata": {},
   "outputs": [
    {
     "name": "stdout",
     "output_type": "stream",
     "text": [
      "             DESCRIPTION                     CREATED_BY_ID CLOSED_BY_ID  \\\n",
      "0   défaut frein parking  6647665632626ec024efa63ffb2c8191                \n",
      "1  License plate missing                                                  \n",
      "2                         0ae45da93c3296e5b2fd750c105b5d57                \n",
      "3  Please vacuum vehicle  e3d823bfb69a748e904ef06cbc8a3423                \n",
      "4                   pads  3264b7acc673cbbad595a95e32ef8408                \n",
      "\n",
      "                         VEHICLE_ID VEHICLE_METER_VALUE VEHICLE_METER_UNIT  \\\n",
      "0  c154a8db8182c5272d94914fcef8ef59         408109.6749                 km   \n",
      "1  baa4a300d7ae080b7186d750b56ec905         400503.7444                 mi   \n",
      "2  5d1b4321da55ddf22ab9ee528ded8e7e          31131.3842                 mi   \n",
      "3  a4fb73d46417597172297d2c86dfc477         169333.9159                 mi   \n",
      "4  337857066029543d34fb6b362a70930f         14247.97073                 mi   \n",
      "\n",
      "       VEHICLE_METER_AT                       CUSTOM_FIELDS  \\\n",
      "0  2023-07-03T00:00:00Z                                       \n",
      "1  2023-07-04T00:00:00Z                                  {}   \n",
      "2  2023-07-04T00:00:00Z                                       \n",
      "3  2023-07-04T00:00:00Z  {\\n  \"accident_report\": \"false\"\\n}   \n",
      "4  2023-05-13T00:00:00Z                                  {}   \n",
      "\n",
      "                REPORTED_AT               RESOLVED_AT RESOLVED_NOTE     STATE  \\\n",
      "0      2023-06-14T17:36:00Z  2023-06-15T13:08:49.155Z            Ok  resolved   \n",
      "1      2023-03-15T09:17:00Z                                              open   \n",
      "2      2023-01-19T14:53:00Z  2023-01-19T20:29:50.129Z                resolved   \n",
      "3      2023-02-11T17:32:00Z   2023-02-14T12:08:22.17Z                resolved   \n",
      "4  2023-01-18T03:32:59.711Z      2023-01-18T06:30:00Z                resolved   \n",
      "\n",
      "                 CREATED_AT                UPDATED_AT  \n",
      "0  2023-06-14T17:36:51.937Z  2023-06-15T13:08:49.201Z  \n",
      "1  2023-03-15T09:27:27.783Z  2023-03-15T09:27:27.783Z  \n",
      "2  2023-01-19T14:54:28.062Z  2023-01-19T20:29:51.023Z  \n",
      "3  2023-02-11T17:34:11.487Z  2023-02-14T12:08:22.237Z  \n",
      "4  2023-01-18T03:32:59.902Z  2023-01-18T06:30:01.852Z  \n"
     ]
    }
   ],
   "source": [
    "import pandas as pd\n",
    "df = pd.DataFrame(data)\n",
    "print(df.head())"
   ]
  },
  {
   "cell_type": "code",
   "execution_count": 55,
   "id": "a47b9f02-17db-43dd-8aec-58db54493648",
   "metadata": {},
   "outputs": [
    {
     "data": {
      "text/plain": [
       "<bound method DataFrame.info of                                            DESCRIPTION  \\\n",
       "0                                 défaut frein parking   \n",
       "1                                License plate missing   \n",
       "2                                                        \n",
       "3                                Please vacuum vehicle   \n",
       "4                                                 pads   \n",
       "..                                                 ...   \n",
       "495                                pads, caliper align   \n",
       "496                  HP and  And ESC warning lights on   \n",
       "497                                     tire, cassette   \n",
       "498  One clearance light on the back of the pup on ...   \n",
       "499                                            Cracked   \n",
       "\n",
       "                        CREATED_BY_ID CLOSED_BY_ID  \\\n",
       "0    6647665632626ec024efa63ffb2c8191                \n",
       "1                                                    \n",
       "2    0ae45da93c3296e5b2fd750c105b5d57                \n",
       "3    e3d823bfb69a748e904ef06cbc8a3423                \n",
       "4    3264b7acc673cbbad595a95e32ef8408                \n",
       "..                                ...          ...   \n",
       "495                                                  \n",
       "496                                                  \n",
       "497  3264b7acc673cbbad595a95e32ef8408                \n",
       "498  0c0c46af40febe6f2529c26de10e4ae7                \n",
       "499                                                  \n",
       "\n",
       "                           VEHICLE_ID VEHICLE_METER_VALUE VEHICLE_METER_UNIT  \\\n",
       "0    c154a8db8182c5272d94914fcef8ef59         408109.6749                 km   \n",
       "1    baa4a300d7ae080b7186d750b56ec905         400503.7444                 mi   \n",
       "2    5d1b4321da55ddf22ab9ee528ded8e7e          31131.3842                 mi   \n",
       "3    a4fb73d46417597172297d2c86dfc477         169333.9159                 mi   \n",
       "4    337857066029543d34fb6b362a70930f         14247.97073                 mi   \n",
       "..                                ...                 ...                ...   \n",
       "495  763fd09d6d61b3651c24800cbbd8deba         8328.436916                 mi   \n",
       "496  08e89354bf5f9359bcc511039e115016         298572.2611                 mi   \n",
       "497  7e59d586a1f42875ef19b2efa23cf45b         3299.115237                 mi   \n",
       "498  5c7883642fb57b03b62b571ed5e3fc88        -2240.607823                 hr   \n",
       "499  1ed8f9fb559b904df61a2b8c27be2531         62028.70181                 mi   \n",
       "\n",
       "         VEHICLE_METER_AT                       CUSTOM_FIELDS  \\\n",
       "0    2023-07-03T00:00:00Z                                       \n",
       "1    2023-07-04T00:00:00Z                                  {}   \n",
       "2    2023-07-04T00:00:00Z                                       \n",
       "3    2023-07-04T00:00:00Z  {\\n  \"accident_report\": \"false\"\\n}   \n",
       "4    2023-05-13T00:00:00Z                                  {}   \n",
       "..                    ...                                 ...   \n",
       "495  2023-06-14T00:00:00Z                                  {}   \n",
       "496  2023-07-02T00:00:00Z                                  {}   \n",
       "497  2023-06-08T00:00:00Z                                  {}   \n",
       "498  2023-06-26T00:00:00Z                                  {}   \n",
       "499  2023-07-04T00:00:00Z                                  {}   \n",
       "\n",
       "                  REPORTED_AT               RESOLVED_AT RESOLVED_NOTE  \\\n",
       "0        2023-06-14T17:36:00Z  2023-06-15T13:08:49.155Z            Ok   \n",
       "1        2023-03-15T09:17:00Z                                           \n",
       "2        2023-01-19T14:53:00Z  2023-01-19T20:29:50.129Z                 \n",
       "3        2023-02-11T17:32:00Z   2023-02-14T12:08:22.17Z                 \n",
       "4    2023-01-18T03:32:59.711Z      2023-01-18T06:30:00Z                 \n",
       "..                        ...                       ...           ...   \n",
       "495  2023-06-14T10:02:51.104Z      2023-06-14T10:03:35Z                 \n",
       "496      2023-01-15T23:33:25Z      2023-01-25T15:29:00Z                 \n",
       "497  2023-03-16T17:41:14.243Z                                           \n",
       "498  2023-03-13T13:14:36.828Z      2023-03-24T06:00:00Z                 \n",
       "499      2023-02-22T12:52:13Z                                           \n",
       "\n",
       "        STATE                CREATED_AT                UPDATED_AT  \n",
       "0    resolved  2023-06-14T17:36:51.937Z  2023-06-15T13:08:49.201Z  \n",
       "1        open  2023-03-15T09:27:27.783Z  2023-03-15T09:27:27.783Z  \n",
       "2    resolved  2023-01-19T14:54:28.062Z  2023-01-19T20:29:51.023Z  \n",
       "3    resolved  2023-02-11T17:34:11.487Z  2023-02-14T12:08:22.237Z  \n",
       "4    resolved  2023-01-18T03:32:59.902Z  2023-01-18T06:30:01.852Z  \n",
       "..        ...                       ...                       ...  \n",
       "495  resolved  2023-06-14T10:02:51.297Z  2023-06-14T10:03:37.159Z  \n",
       "496  resolved  2023-01-16T00:31:54.096Z  2023-01-25T15:30:30.803Z  \n",
       "497      open  2023-03-16T17:41:14.601Z  2023-03-16T17:42:37.174Z  \n",
       "498  resolved  2023-03-13T13:15:32.107Z  2023-03-28T13:32:18.279Z  \n",
       "499      open  2023-02-22T13:43:10.041Z  2023-02-22T13:43:10.041Z  \n",
       "\n",
       "[500 rows x 14 columns]>"
      ]
     },
     "execution_count": 55,
     "metadata": {},
     "output_type": "execute_result"
    }
   ],
   "source": [
    "df.info"
   ]
  },
  {
   "cell_type": "code",
   "execution_count": 56,
   "id": "c85a8b81-fdef-45ad-9fb5-1b61721e1263",
   "metadata": {},
   "outputs": [
    {
     "data": {
      "text/html": [
       "<div>\n",
       "<style scoped>\n",
       "    .dataframe tbody tr th:only-of-type {\n",
       "        vertical-align: middle;\n",
       "    }\n",
       "\n",
       "    .dataframe tbody tr th {\n",
       "        vertical-align: top;\n",
       "    }\n",
       "\n",
       "    .dataframe thead th {\n",
       "        text-align: right;\n",
       "    }\n",
       "</style>\n",
       "<table border=\"1\" class=\"dataframe\">\n",
       "  <thead>\n",
       "    <tr style=\"text-align: right;\">\n",
       "      <th></th>\n",
       "      <th>DESCRIPTION</th>\n",
       "      <th>CREATED_BY_ID</th>\n",
       "      <th>CLOSED_BY_ID</th>\n",
       "      <th>VEHICLE_ID</th>\n",
       "      <th>VEHICLE_METER_VALUE</th>\n",
       "      <th>VEHICLE_METER_UNIT</th>\n",
       "      <th>VEHICLE_METER_AT</th>\n",
       "      <th>CUSTOM_FIELDS</th>\n",
       "      <th>REPORTED_AT</th>\n",
       "      <th>RESOLVED_AT</th>\n",
       "      <th>RESOLVED_NOTE</th>\n",
       "      <th>STATE</th>\n",
       "      <th>CREATED_AT</th>\n",
       "      <th>UPDATED_AT</th>\n",
       "    </tr>\n",
       "  </thead>\n",
       "  <tbody>\n",
       "    <tr>\n",
       "      <th>count</th>\n",
       "      <td>500</td>\n",
       "      <td>500</td>\n",
       "      <td>500</td>\n",
       "      <td>500</td>\n",
       "      <td>500</td>\n",
       "      <td>500</td>\n",
       "      <td>500</td>\n",
       "      <td>500</td>\n",
       "      <td>500</td>\n",
       "      <td>500</td>\n",
       "      <td>500</td>\n",
       "      <td>500</td>\n",
       "      <td>500</td>\n",
       "      <td>500</td>\n",
       "    </tr>\n",
       "    <tr>\n",
       "      <th>unique</th>\n",
       "      <td>342</td>\n",
       "      <td>251</td>\n",
       "      <td>22</td>\n",
       "      <td>490</td>\n",
       "      <td>499</td>\n",
       "      <td>4</td>\n",
       "      <td>108</td>\n",
       "      <td>31</td>\n",
       "      <td>499</td>\n",
       "      <td>348</td>\n",
       "      <td>70</td>\n",
       "      <td>3</td>\n",
       "      <td>500</td>\n",
       "      <td>500</td>\n",
       "    </tr>\n",
       "    <tr>\n",
       "      <th>top</th>\n",
       "      <td></td>\n",
       "      <td></td>\n",
       "      <td></td>\n",
       "      <td>b79c09e1bc96f281fe486f561aa4ade5</td>\n",
       "      <td></td>\n",
       "      <td>mi</td>\n",
       "      <td>2023-07-04T00:00:00Z</td>\n",
       "      <td>{}</td>\n",
       "      <td>2023-01-21T02:33:26.067Z</td>\n",
       "      <td></td>\n",
       "      <td></td>\n",
       "      <td>resolved</td>\n",
       "      <td>2023-02-22T13:43:10.041Z</td>\n",
       "      <td>2023-02-22T13:43:10.041Z</td>\n",
       "    </tr>\n",
       "    <tr>\n",
       "      <th>freq</th>\n",
       "      <td>105</td>\n",
       "      <td>158</td>\n",
       "      <td>477</td>\n",
       "      <td>2</td>\n",
       "      <td>2</td>\n",
       "      <td>362</td>\n",
       "      <td>169</td>\n",
       "      <td>403</td>\n",
       "      <td>2</td>\n",
       "      <td>148</td>\n",
       "      <td>414</td>\n",
       "      <td>352</td>\n",
       "      <td>1</td>\n",
       "      <td>1</td>\n",
       "    </tr>\n",
       "  </tbody>\n",
       "</table>\n",
       "</div>"
      ],
      "text/plain": [
       "       DESCRIPTION CREATED_BY_ID CLOSED_BY_ID  \\\n",
       "count          500           500          500   \n",
       "unique         342           251           22   \n",
       "top                                             \n",
       "freq           105           158          477   \n",
       "\n",
       "                              VEHICLE_ID VEHICLE_METER_VALUE  \\\n",
       "count                                500                 500   \n",
       "unique                               490                 499   \n",
       "top     b79c09e1bc96f281fe486f561aa4ade5                       \n",
       "freq                                   2                   2   \n",
       "\n",
       "       VEHICLE_METER_UNIT      VEHICLE_METER_AT CUSTOM_FIELDS  \\\n",
       "count                 500                   500           500   \n",
       "unique                  4                   108            31   \n",
       "top                    mi  2023-07-04T00:00:00Z            {}   \n",
       "freq                  362                   169           403   \n",
       "\n",
       "                     REPORTED_AT RESOLVED_AT RESOLVED_NOTE     STATE  \\\n",
       "count                        500         500           500       500   \n",
       "unique                       499         348            70         3   \n",
       "top     2023-01-21T02:33:26.067Z                            resolved   \n",
       "freq                           2         148           414       352   \n",
       "\n",
       "                      CREATED_AT                UPDATED_AT  \n",
       "count                        500                       500  \n",
       "unique                       500                       500  \n",
       "top     2023-02-22T13:43:10.041Z  2023-02-22T13:43:10.041Z  \n",
       "freq                           1                         1  "
      ]
     },
     "execution_count": 56,
     "metadata": {},
     "output_type": "execute_result"
    }
   ],
   "source": [
    "df.describe()"
   ]
  },
  {
   "cell_type": "code",
   "execution_count": 57,
   "id": "39664eff-174c-4430-8986-f0ec2a768bef",
   "metadata": {},
   "outputs": [
    {
     "data": {
      "text/plain": [
       "True"
      ]
     },
     "execution_count": 57,
     "metadata": {},
     "output_type": "execute_result"
    }
   ],
   "source": [
    "load_dotenv(dotenv_path='cred.env')"
   ]
  },
  {
   "cell_type": "code",
   "execution_count": 67,
   "id": "8d37f7dd-1f3a-481e-9e0c-c2a5d48fd90e",
   "metadata": {},
   "outputs": [
    {
     "name": "stdout",
     "output_type": "stream",
     "text": [
      "Rasika%4018\n"
     ]
    }
   ],
   "source": [
    "host=os.getenv(\"MYSQL_HOST\")\n",
    "user=os.getenv(\"MYSQL_USER\")\n",
    "password=os.getenv(\"MYSQL_PASSWORD\")\n",
    "password = quote_plus(password)\n",
    "database=os.getenv(\"MYSQL_DB\")\n",
    "port = 3306\n",
    "\n",
    "print(password)\n",
    "connection_string = f\"mysql+pymysql://{user}:{password}@{host}:{port}/{database}\"\n",
    "engine = create_engine(connection_string)"
   ]
  },
  {
   "cell_type": "code",
   "execution_count": 68,
   "id": "395f76b8-edd4-4d90-80ab-4b1b016e0cbc",
   "metadata": {},
   "outputs": [
    {
     "data": {
      "text/plain": [
       "500"
      ]
     },
     "execution_count": 68,
     "metadata": {},
     "output_type": "execute_result"
    }
   ],
   "source": [
    "df.to_sql('issues_raw', con=engine, if_exists='replace', index=False)"
   ]
  },
  {
   "cell_type": "code",
   "execution_count": 1,
   "id": "f2f8c56b-1cf0-4152-803f-bc4fc505a38a",
   "metadata": {},
   "outputs": [
    {
     "name": "stdout",
     "output_type": "stream",
     "text": [
      "C:\\Users\\lenovo\n"
     ]
    }
   ],
   "source": [
    "import os\n",
    "print(os.getcwd())"
   ]
  },
  {
   "cell_type": "code",
   "execution_count": null,
   "id": "76dccc76-ba8d-416d-aa46-b73f178e10d0",
   "metadata": {},
   "outputs": [],
   "source": []
  }
 ],
 "metadata": {
  "kernelspec": {
   "display_name": "Python 3 (ipykernel)",
   "language": "python",
   "name": "python3"
  },
  "language_info": {
   "codemirror_mode": {
    "name": "ipython",
    "version": 3
   },
   "file_extension": ".py",
   "mimetype": "text/x-python",
   "name": "python",
   "nbconvert_exporter": "python",
   "pygments_lexer": "ipython3",
   "version": "3.13.2"
  }
 },
 "nbformat": 4,
 "nbformat_minor": 5
}
